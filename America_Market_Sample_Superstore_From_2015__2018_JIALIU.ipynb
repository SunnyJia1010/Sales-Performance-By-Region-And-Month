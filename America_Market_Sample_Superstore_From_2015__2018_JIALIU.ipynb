{
  "nbformat": 4,
  "nbformat_minor": 0,
  "metadata": {
    "colab": {
      "name": "America_Market_Sample_Superstore_From_2015_ 2018_JIA LIU.ipynb",
      "provenance": []
    },
    "kernelspec": {
      "name": "python3",
      "display_name": "Python 3"
    }
  },
  "cells": [
    {
      "cell_type": "markdown",
      "metadata": {
        "id": "IfB82SquYjC2"
      },
      "source": [
        "###America Market Sample Superstore From 2015 - 2018\n",
        "----- \n",
        "Sales Performance By Region And Month Report_JIALIU\n",
        "\n",
        "Step\n",
        "\n",
        "1 Load Data\n",
        "\n",
        "2 Exploratory Analysis Data\n",
        "\n",
        "3 Feature Engineering\n",
        "* Check the missing value and fill the null value\n",
        "* Drop data \n",
        "* Clean and Split the data\n",
        "\n",
        "4 Modeling Portion\n",
        "* Linear Regression\n",
        "* KNN_Regression\n",
        "* Random Forest\n",
        "* XGBoost\n"
      ]
    },
    {
      "cell_type": "markdown",
      "metadata": {
        "id": "dPFjD1RFZTFf"
      },
      "source": [
        "**Import Libraries and Load Dataset**\n",
        "\n",
        "---"
      ]
    },
    {
      "cell_type": "code",
      "metadata": {
        "id": "ltBToa8eYh9z",
        "outputId": "5f8add66-3e5b-428c-ee77-9885ae2f2ded",
        "colab": {
          "base_uri": "https://localhost:8080/",
          "height": 54
        }
      },
      "source": [
        "from google.colab import drive\n",
        "drive.mount('/content/drive')"
      ],
      "execution_count": 1,
      "outputs": [
        {
          "output_type": "stream",
          "text": [
            "Drive already mounted at /content/drive; to attempt to forcibly remount, call drive.mount(\"/content/drive\", force_remount=True).\n"
          ],
          "name": "stdout"
        }
      ]
    },
    {
      "cell_type": "code",
      "metadata": {
        "id": "LBXSm_j3Zarw"
      },
      "source": [
        "#Load libraries\n",
        "import numpy as np\n",
        "import pandas as pd\n",
        "import matplotlib.pyplot as plt\n",
        "import seaborn as sns"
      ],
      "execution_count": 2,
      "outputs": []
    },
    {
      "cell_type": "code",
      "metadata": {
        "id": "4h4P0-wiaD5j"
      },
      "source": [
        "# Load dataset\n",
        "df=pd.read_csv('../content/drive/My Drive/AmericaMarketSampleSuperstoreFrom2015To2018/SampleSuperstore.csv', encoding='Latin-1')"
      ],
      "execution_count": 3,
      "outputs": []
    },
    {
      "cell_type": "markdown",
      "metadata": {
        "id": "DzsEJX5SclRy"
      },
      "source": [
        "**Exploratory Analysis Data**\n",
        "\n",
        "---"
      ]
    },
    {
      "cell_type": "code",
      "metadata": {
        "id": "kY7LgLgWcmFl",
        "outputId": "fffca5a3-bef0-4ba1-c03b-48da5d54002c",
        "colab": {
          "base_uri": "https://localhost:8080/",
          "height": 513
        }
      },
      "source": [
        "#Dataset Preview\n",
        "df.head()"
      ],
      "execution_count": 4,
      "outputs": [
        {
          "output_type": "execute_result",
          "data": {
            "text/html": [
              "<div>\n",
              "<style scoped>\n",
              "    .dataframe tbody tr th:only-of-type {\n",
              "        vertical-align: middle;\n",
              "    }\n",
              "\n",
              "    .dataframe tbody tr th {\n",
              "        vertical-align: top;\n",
              "    }\n",
              "\n",
              "    .dataframe thead th {\n",
              "        text-align: right;\n",
              "    }\n",
              "</style>\n",
              "<table border=\"1\" class=\"dataframe\">\n",
              "  <thead>\n",
              "    <tr style=\"text-align: right;\">\n",
              "      <th></th>\n",
              "      <th>RowID</th>\n",
              "      <th>OrderID</th>\n",
              "      <th>OrderDate</th>\n",
              "      <th>ShipDate</th>\n",
              "      <th>ShipMode</th>\n",
              "      <th>CustomerID</th>\n",
              "      <th>CustomerName</th>\n",
              "      <th>Segment</th>\n",
              "      <th>Country</th>\n",
              "      <th>City</th>\n",
              "      <th>State</th>\n",
              "      <th>PostalCode</th>\n",
              "      <th>Region</th>\n",
              "      <th>ProductID</th>\n",
              "      <th>Category</th>\n",
              "      <th>SubCategory</th>\n",
              "      <th>ProductName</th>\n",
              "      <th>Sales</th>\n",
              "      <th>Quantity</th>\n",
              "      <th>Discount</th>\n",
              "      <th>Profit</th>\n",
              "    </tr>\n",
              "  </thead>\n",
              "  <tbody>\n",
              "    <tr>\n",
              "      <th>0</th>\n",
              "      <td>1</td>\n",
              "      <td>CA-2017-152156</td>\n",
              "      <td>11/8/17</td>\n",
              "      <td>11/11/17</td>\n",
              "      <td>Second Class</td>\n",
              "      <td>CG-12520</td>\n",
              "      <td>Claire Gute</td>\n",
              "      <td>Consumer</td>\n",
              "      <td>United States</td>\n",
              "      <td>Henderson</td>\n",
              "      <td>Kentucky</td>\n",
              "      <td>42420.0</td>\n",
              "      <td>South</td>\n",
              "      <td>FUR-BO-10001798</td>\n",
              "      <td>Furniture</td>\n",
              "      <td>Bookcases</td>\n",
              "      <td>Bush Somerset Collection Bookcase</td>\n",
              "      <td>261.9600</td>\n",
              "      <td>2.0</td>\n",
              "      <td>0.00</td>\n",
              "      <td>41.9136</td>\n",
              "    </tr>\n",
              "    <tr>\n",
              "      <th>1</th>\n",
              "      <td>2</td>\n",
              "      <td>CA-2017-152156</td>\n",
              "      <td>11/8/17</td>\n",
              "      <td>11/11/17</td>\n",
              "      <td>Second Class</td>\n",
              "      <td>CG-12520</td>\n",
              "      <td>Claire Gute</td>\n",
              "      <td>Consumer</td>\n",
              "      <td>United States</td>\n",
              "      <td>Henderson</td>\n",
              "      <td>Kentucky</td>\n",
              "      <td>42420.0</td>\n",
              "      <td>South</td>\n",
              "      <td>FUR-CH-10000454</td>\n",
              "      <td>Furniture</td>\n",
              "      <td>Chairs</td>\n",
              "      <td>Hon Deluxe Fabric Upholstered Stacking Chairs,...</td>\n",
              "      <td>731.9400</td>\n",
              "      <td>3.0</td>\n",
              "      <td>0.00</td>\n",
              "      <td>219.5820</td>\n",
              "    </tr>\n",
              "    <tr>\n",
              "      <th>2</th>\n",
              "      <td>3</td>\n",
              "      <td>CA-2017-138688</td>\n",
              "      <td>6/12/17</td>\n",
              "      <td>6/16/17</td>\n",
              "      <td>Second Class</td>\n",
              "      <td>DV-13045</td>\n",
              "      <td>Darrin Van Huff</td>\n",
              "      <td>Corporate</td>\n",
              "      <td>United States</td>\n",
              "      <td>Los Angeles</td>\n",
              "      <td>California</td>\n",
              "      <td>90036.0</td>\n",
              "      <td>West</td>\n",
              "      <td>OFF-LA-10000240</td>\n",
              "      <td>Office Supplies</td>\n",
              "      <td>Labels</td>\n",
              "      <td>Self-Adhesive Address Labels for Typewriters b...</td>\n",
              "      <td>14.6200</td>\n",
              "      <td>2.0</td>\n",
              "      <td>0.00</td>\n",
              "      <td>6.8714</td>\n",
              "    </tr>\n",
              "    <tr>\n",
              "      <th>3</th>\n",
              "      <td>4</td>\n",
              "      <td>US-2016-108966</td>\n",
              "      <td>10/11/16</td>\n",
              "      <td>10/18/16</td>\n",
              "      <td>Standard Class</td>\n",
              "      <td>SO-20335</td>\n",
              "      <td>Sean O'Donnell</td>\n",
              "      <td>Consumer</td>\n",
              "      <td>United States</td>\n",
              "      <td>Fort Lauderdale</td>\n",
              "      <td>Florida</td>\n",
              "      <td>33311.0</td>\n",
              "      <td>South</td>\n",
              "      <td>FUR-TA-10000577</td>\n",
              "      <td>Furniture</td>\n",
              "      <td>Tables</td>\n",
              "      <td>Bretford CR4500 Series Slim Rectangular Table</td>\n",
              "      <td>957.5775</td>\n",
              "      <td>5.0</td>\n",
              "      <td>0.45</td>\n",
              "      <td>-383.0310</td>\n",
              "    </tr>\n",
              "    <tr>\n",
              "      <th>4</th>\n",
              "      <td>5</td>\n",
              "      <td>US-2016-108966</td>\n",
              "      <td>10/11/16</td>\n",
              "      <td>10/18/16</td>\n",
              "      <td>Standard Class</td>\n",
              "      <td>SO-20335</td>\n",
              "      <td>Sean O'Donnell</td>\n",
              "      <td>Consumer</td>\n",
              "      <td>United States</td>\n",
              "      <td>Fort Lauderdale</td>\n",
              "      <td>Florida</td>\n",
              "      <td>33311.0</td>\n",
              "      <td>South</td>\n",
              "      <td>OFF-ST-10000760</td>\n",
              "      <td>Office Supplies</td>\n",
              "      <td>Storage</td>\n",
              "      <td>Eldon Fold 'N Roll Cart System</td>\n",
              "      <td>22.3680</td>\n",
              "      <td>2.0</td>\n",
              "      <td>0.20</td>\n",
              "      <td>2.5164</td>\n",
              "    </tr>\n",
              "  </tbody>\n",
              "</table>\n",
              "</div>"
            ],
            "text/plain": [
              "  RowID         OrderID OrderDate  ... Quantity Discount    Profit\n",
              "0     1  CA-2017-152156   11/8/17  ...      2.0     0.00   41.9136\n",
              "1     2  CA-2017-152156   11/8/17  ...      3.0     0.00  219.5820\n",
              "2     3  CA-2017-138688   6/12/17  ...      2.0     0.00    6.8714\n",
              "3     4  US-2016-108966  10/11/16  ...      5.0     0.45 -383.0310\n",
              "4     5  US-2016-108966  10/11/16  ...      2.0     0.20    2.5164\n",
              "\n",
              "[5 rows x 21 columns]"
            ]
          },
          "metadata": {
            "tags": []
          },
          "execution_count": 4
        }
      ]
    },
    {
      "cell_type": "code",
      "metadata": {
        "id": "DV9WbfVxdc1i",
        "outputId": "5ee7c89a-6228-4108-d487-711ce2881084",
        "colab": {
          "base_uri": "https://localhost:8080/",
          "height": 297
        }
      },
      "source": [
        "# Show descriptive statistics of training set\n",
        "df.describe()"
      ],
      "execution_count": 5,
      "outputs": [
        {
          "output_type": "execute_result",
          "data": {
            "text/html": [
              "<div>\n",
              "<style scoped>\n",
              "    .dataframe tbody tr th:only-of-type {\n",
              "        vertical-align: middle;\n",
              "    }\n",
              "\n",
              "    .dataframe tbody tr th {\n",
              "        vertical-align: top;\n",
              "    }\n",
              "\n",
              "    .dataframe thead th {\n",
              "        text-align: right;\n",
              "    }\n",
              "</style>\n",
              "<table border=\"1\" class=\"dataframe\">\n",
              "  <thead>\n",
              "    <tr style=\"text-align: right;\">\n",
              "      <th></th>\n",
              "      <th>PostalCode</th>\n",
              "      <th>Sales</th>\n",
              "      <th>Quantity</th>\n",
              "      <th>Discount</th>\n",
              "      <th>Profit</th>\n",
              "    </tr>\n",
              "  </thead>\n",
              "  <tbody>\n",
              "    <tr>\n",
              "      <th>count</th>\n",
              "      <td>9983.000000</td>\n",
              "      <td>9994.000000</td>\n",
              "      <td>9994.000000</td>\n",
              "      <td>9994.000000</td>\n",
              "      <td>9994.000000</td>\n",
              "    </tr>\n",
              "    <tr>\n",
              "      <th>mean</th>\n",
              "      <td>55245.233297</td>\n",
              "      <td>229.858001</td>\n",
              "      <td>3.789574</td>\n",
              "      <td>0.156203</td>\n",
              "      <td>28.656896</td>\n",
              "    </tr>\n",
              "    <tr>\n",
              "      <th>std</th>\n",
              "      <td>32038.715955</td>\n",
              "      <td>623.245101</td>\n",
              "      <td>2.225110</td>\n",
              "      <td>0.206452</td>\n",
              "      <td>234.260108</td>\n",
              "    </tr>\n",
              "    <tr>\n",
              "      <th>min</th>\n",
              "      <td>1040.000000</td>\n",
              "      <td>0.444000</td>\n",
              "      <td>1.000000</td>\n",
              "      <td>0.000000</td>\n",
              "      <td>-6599.978000</td>\n",
              "    </tr>\n",
              "    <tr>\n",
              "      <th>25%</th>\n",
              "      <td>23223.000000</td>\n",
              "      <td>17.280000</td>\n",
              "      <td>2.000000</td>\n",
              "      <td>0.000000</td>\n",
              "      <td>1.728750</td>\n",
              "    </tr>\n",
              "    <tr>\n",
              "      <th>50%</th>\n",
              "      <td>57103.000000</td>\n",
              "      <td>54.490000</td>\n",
              "      <td>3.000000</td>\n",
              "      <td>0.200000</td>\n",
              "      <td>8.666500</td>\n",
              "    </tr>\n",
              "    <tr>\n",
              "      <th>75%</th>\n",
              "      <td>90008.000000</td>\n",
              "      <td>209.940000</td>\n",
              "      <td>5.000000</td>\n",
              "      <td>0.200000</td>\n",
              "      <td>29.364000</td>\n",
              "    </tr>\n",
              "    <tr>\n",
              "      <th>max</th>\n",
              "      <td>99301.000000</td>\n",
              "      <td>22638.480000</td>\n",
              "      <td>14.000000</td>\n",
              "      <td>0.800000</td>\n",
              "      <td>8399.976000</td>\n",
              "    </tr>\n",
              "  </tbody>\n",
              "</table>\n",
              "</div>"
            ],
            "text/plain": [
              "         PostalCode         Sales     Quantity     Discount       Profit\n",
              "count   9983.000000   9994.000000  9994.000000  9994.000000  9994.000000\n",
              "mean   55245.233297    229.858001     3.789574     0.156203    28.656896\n",
              "std    32038.715955    623.245101     2.225110     0.206452   234.260108\n",
              "min     1040.000000      0.444000     1.000000     0.000000 -6599.978000\n",
              "25%    23223.000000     17.280000     2.000000     0.000000     1.728750\n",
              "50%    57103.000000     54.490000     3.000000     0.200000     8.666500\n",
              "75%    90008.000000    209.940000     5.000000     0.200000    29.364000\n",
              "max    99301.000000  22638.480000    14.000000     0.800000  8399.976000"
            ]
          },
          "metadata": {
            "tags": []
          },
          "execution_count": 5
        }
      ]
    },
    {
      "cell_type": "code",
      "metadata": {
        "id": "rXlXnQE7c7ki",
        "outputId": "bdeb612f-2417-4cdf-d07a-042e6c8ed5ff",
        "colab": {
          "base_uri": "https://localhost:8080/",
          "height": 102
        }
      },
      "source": [
        "#Review all column idex\n",
        "df.columns.values"
      ],
      "execution_count": 6,
      "outputs": [
        {
          "output_type": "execute_result",
          "data": {
            "text/plain": [
              "array(['RowID', 'OrderID', 'OrderDate', 'ShipDate', 'ShipMode',\n",
              "       'CustomerID', 'CustomerName', 'Segment', 'Country', 'City',\n",
              "       'State', 'PostalCode', 'Region', 'ProductID', 'Category',\n",
              "       'SubCategory', 'ProductName', 'Sales', 'Quantity', 'Discount',\n",
              "       'Profit'], dtype=object)"
            ]
          },
          "metadata": {
            "tags": []
          },
          "execution_count": 6
        }
      ]
    },
    {
      "cell_type": "code",
      "metadata": {
        "id": "FlAY8Y0ZdHnU",
        "outputId": "da2f278f-fec1-403b-ce57-e03c6fb926b6",
        "colab": {
          "base_uri": "https://localhost:8080/",
          "height": 34
        }
      },
      "source": [
        "#Number of rows and columns \n",
        "print(df.shape)"
      ],
      "execution_count": 7,
      "outputs": [
        {
          "output_type": "stream",
          "text": [
            "(10800, 21)\n"
          ],
          "name": "stdout"
        }
      ]
    },
    {
      "cell_type": "code",
      "metadata": {
        "id": "eyqVPufDdNPj",
        "outputId": "d895e95d-efab-4236-d847-a2a622b94c7b",
        "colab": {
          "base_uri": "https://localhost:8080/",
          "height": 493
        }
      },
      "source": [
        "#Data type\n",
        "df.info()"
      ],
      "execution_count": 8,
      "outputs": [
        {
          "output_type": "stream",
          "text": [
            "<class 'pandas.core.frame.DataFrame'>\n",
            "RangeIndex: 10800 entries, 0 to 10799\n",
            "Data columns (total 21 columns):\n",
            " #   Column        Non-Null Count  Dtype  \n",
            "---  ------        --------------  -----  \n",
            " 0   RowID         10800 non-null  object \n",
            " 1   OrderID       10800 non-null  object \n",
            " 2   OrderDate     9994 non-null   object \n",
            " 3   ShipDate      9994 non-null   object \n",
            " 4   ShipMode      9994 non-null   object \n",
            " 5   CustomerID    9994 non-null   object \n",
            " 6   CustomerName  9994 non-null   object \n",
            " 7   Segment       9994 non-null   object \n",
            " 8   Country       9994 non-null   object \n",
            " 9   City          9994 non-null   object \n",
            " 10  State         9994 non-null   object \n",
            " 11  PostalCode    9983 non-null   float64\n",
            " 12  Region        9994 non-null   object \n",
            " 13  ProductID     9994 non-null   object \n",
            " 14  Category      9994 non-null   object \n",
            " 15  SubCategory   9994 non-null   object \n",
            " 16  ProductName   9994 non-null   object \n",
            " 17  Sales         9994 non-null   float64\n",
            " 18  Quantity      9994 non-null   float64\n",
            " 19  Discount      9994 non-null   float64\n",
            " 20  Profit        9994 non-null   float64\n",
            "dtypes: float64(5), object(16)\n",
            "memory usage: 1.7+ MB\n"
          ],
          "name": "stdout"
        }
      ]
    },
    {
      "cell_type": "code",
      "metadata": {
        "id": "rvR80f4Bdl-l",
        "outputId": "11ea75b9-48b1-4d1b-f022-48455ff0e6cd",
        "colab": {
          "base_uri": "https://localhost:8080/",
          "height": 940
        }
      },
      "source": [
        "# Visualization for data statistic distribution\n",
        "# We will find out which feature we can use \n",
        "df.hist(figsize = (15,15),bins=20)"
      ],
      "execution_count": 9,
      "outputs": [
        {
          "output_type": "execute_result",
          "data": {
            "text/plain": [
              "array([[<matplotlib.axes._subplots.AxesSubplot object at 0x7f8f7afaef28>,\n",
              "        <matplotlib.axes._subplots.AxesSubplot object at 0x7f8f7af10198>],\n",
              "       [<matplotlib.axes._subplots.AxesSubplot object at 0x7f8f7aec7400>,\n",
              "        <matplotlib.axes._subplots.AxesSubplot object at 0x7f8f7aef8668>],\n",
              "       [<matplotlib.axes._subplots.AxesSubplot object at 0x7f8f7aeab8d0>,\n",
              "        <matplotlib.axes._subplots.AxesSubplot object at 0x7f8f7ae5fb38>]],\n",
              "      dtype=object)"
            ]
          },
          "metadata": {
            "tags": []
          },
          "execution_count": 9
        },
        {
          "output_type": "display_data",
          "data": {
            "image/png": "[encoded data removed]",
            "text/plain": [
              "<Figure size 1080x1080 with 6 Axes>"
            ]
          },
          "metadata": {
            "tags": [],
            "needs_background": "light"
          }
        }
      ]
    },
    {
      "cell_type": "code",
      "metadata": {
        "id": "gFQim2KNgYqy",
        "outputId": "816b513c-b4dd-41b9-b98c-b6b1505bd44c",
        "colab": {
          "base_uri": "https://localhost:8080/",
          "height": 438
        }
      },
      "source": [
        "df.SubCategory.value_counts().plot(kind='bar',figsize=(18,8))"
      ],
      "execution_count": 10,
      "outputs": [
        {
          "output_type": "execute_result",
          "data": {
            "text/plain": [
              "<matplotlib.axes._subplots.AxesSubplot at 0x7f8f7ac70080>"
            ]
          },
          "metadata": {
            "tags": []
          },
          "execution_count": 10
        },
        {
          "output_type": "display_data",
          "data": {
            "image/png": "[encoded data removed]",
            "text/plain": [
              "<Figure size 1296x576 with 1 Axes>"
            ]
          },
          "metadata": {
            "tags": [],
            "needs_background": "light"
          }
        }
      ]
    },
    {
      "cell_type": "code",
      "metadata": {
        "id": "IFq0CLvv960N",
        "outputId": "0f605eb8-3f7e-4995-a832-358022547e88",
        "colab": {
          "base_uri": "https://localhost:8080/",
          "height": 884
        }
      },
      "source": [
        "# state wise profit distribution\n",
        "state_sales = df.groupby('State').sum()['Sales']\n",
        "state_sales"
      ],
      "execution_count": 11,
      "outputs": [
        {
          "output_type": "execute_result",
          "data": {
            "text/plain": [
              "State\n",
              "Alabama                  19510.6400\n",
              "Arizona                  35282.0010\n",
              "Arkansas                 11678.1300\n",
              "California              457687.6315\n",
              "Colorado                 32108.1180\n",
              "Connecticut              13384.3570\n",
              "Delaware                 27451.0690\n",
              "District of Columbia      2865.0200\n",
              "Florida                  89473.7080\n",
              "Georgia                  49095.8400\n",
              "Idaho                     4382.4860\n",
              "Illinois                 80166.1010\n",
              "Indiana                  53555.3600\n",
              "Iowa                      4579.7600\n",
              "Kansas                    2914.3100\n",
              "Kentucky                 36591.7500\n",
              "Louisiana                 9217.0300\n",
              "Maine                     1270.5300\n",
              "Maryland                 23705.5230\n",
              "Massachusetts            28634.4340\n",
              "Michigan                 76269.6140\n",
              "Minnesota                29863.1500\n",
              "Mississippi              10771.3400\n",
              "Missouri                 22205.1500\n",
              "Montana                   5589.3520\n",
              "Nebraska                  7464.9300\n",
              "Nevada                   16729.1020\n",
              "New Hampshire             7292.5240\n",
              "New Jersey               35764.3120\n",
              "New Mexico                4783.5220\n",
              "New York                310876.2710\n",
              "North Carolina           55603.1640\n",
              "North Dakota               919.9100\n",
              "Ohio                     78258.1360\n",
              "Oklahoma                 19683.3900\n",
              "Oregon                   17431.1500\n",
              "Pennsylvania            116511.9140\n",
              "Rhode Island             22627.9560\n",
              "South Carolina            8481.7100\n",
              "South Dakota              1315.5600\n",
              "Tennessee                30661.8730\n",
              "Texas                   170188.0458\n",
              "Utah                     11220.0560\n",
              "Vermont                   8929.3700\n",
              "Virginia                 70636.7200\n",
              "Washington              138641.2700\n",
              "West Virginia             1209.8240\n",
              "Wisconsin                32114.6100\n",
              "Wyoming                   1603.1360\n",
              "Name: Sales, dtype: float64"
            ]
          },
          "metadata": {
            "tags": []
          },
          "execution_count": 11
        }
      ]
    },
    {
      "cell_type": "code",
      "metadata": {
        "id": "XmJakdnR9tYm",
        "outputId": "05b017f2-0cd4-4b7e-aeb1-0f1786f68713",
        "colab": {
          "base_uri": "https://localhost:8080/",
          "height": 390
        }
      },
      "source": [
        "#performance \n",
        "plt.figure(figsize=(15,5))\n",
        "sns.barplot(x=state_sales.index, y=state_sales.values)\n",
        "plt.xticks(rotation=90)\n",
        "\n",
        "plt.show()"
      ],
      "execution_count": 12,
      "outputs": [
        {
          "output_type": "display_data",
          "data": {
            "image/png": "[encoded data removed]",
            "text/plain": [
              "<Figure size 1080x360 with 1 Axes>"
            ]
          },
          "metadata": {
            "tags": [],
            "needs_background": "light"
          }
        }
      ]
    },
    {
      "cell_type": "code",
      "metadata": {
        "id": "j3aVhBCl9485",
        "outputId": "daa12b4d-e5e1-4339-d264-db8c543993b2",
        "colab": {
          "base_uri": "https://localhost:8080/",
          "height": 884
        }
      },
      "source": [
        "# state wise profit distribution\n",
        "state_profit = df.groupby('State').sum()['Profit']\n",
        "state_profit"
      ],
      "execution_count": 13,
      "outputs": [
        {
          "output_type": "execute_result",
          "data": {
            "text/plain": [
              "State\n",
              "Alabama                  5786.8253\n",
              "Arizona                 -3427.9246\n",
              "Arkansas                 4008.6871\n",
              "California              76381.3871\n",
              "Colorado                -6527.8579\n",
              "Connecticut              3511.4918\n",
              "Delaware                 9977.3748\n",
              "District of Columbia     1059.5893\n",
              "Florida                 -3399.3017\n",
              "Georgia                 16250.0433\n",
              "Idaho                     826.7231\n",
              "Illinois               -12607.8870\n",
              "Indiana                 18382.9363\n",
              "Iowa                     1183.8119\n",
              "Kansas                    836.4435\n",
              "Kentucky                11199.6966\n",
              "Louisiana                2196.1023\n",
              "Maine                     454.4862\n",
              "Maryland                 7031.1788\n",
              "Massachusetts            6785.5016\n",
              "Michigan                24463.1876\n",
              "Minnesota               10823.1874\n",
              "Mississippi              3172.9762\n",
              "Missouri                 6436.2105\n",
              "Montana                  1833.3285\n",
              "Nebraska                 2037.0942\n",
              "Nevada                   3316.7659\n",
              "New Hampshire            1706.5028\n",
              "New Jersey               9772.9138\n",
              "New Mexico               1157.1161\n",
              "New York                74038.5486\n",
              "North Carolina          -7490.9122\n",
              "North Dakota              230.1497\n",
              "Ohio                   -16971.3766\n",
              "Oklahoma                 4853.9560\n",
              "Oregon                  -1190.4705\n",
              "Pennsylvania           -15559.9603\n",
              "Rhode Island             7285.6293\n",
              "South Carolina           1769.0566\n",
              "South Dakota              394.8283\n",
              "Tennessee               -5341.6936\n",
              "Texas                  -25729.3563\n",
              "Utah                     2546.5335\n",
              "Vermont                  2244.9783\n",
              "Virginia                18597.9504\n",
              "Washington              33402.6517\n",
              "West Virginia             185.9216\n",
              "Wisconsin                8401.8004\n",
              "Wyoming                   100.1960\n",
              "Name: Profit, dtype: float64"
            ]
          },
          "metadata": {
            "tags": []
          },
          "execution_count": 13
        }
      ]
    },
    {
      "cell_type": "code",
      "metadata": {
        "id": "3S3etfT39xJN",
        "outputId": "1a95af32-247f-46ce-f2dc-5e123f94cb2b",
        "colab": {
          "base_uri": "https://localhost:8080/",
          "height": 390
        }
      },
      "source": [
        "#Profit chart\n",
        "plt.figure(figsize=(15,5))\n",
        "sns.barplot(x=state_profit.index, y=state_profit.values)\n",
        "plt.xticks(rotation=90)\n",
        "\n",
        "plt.show()"
      ],
      "execution_count": 14,
      "outputs": [
        {
          "output_type": "display_data",
          "data": {
            "image/png": "[encoded data removed]",
            "text/plain": [
              "<Figure size 1080x360 with 1 Axes>"
            ]
          },
          "metadata": {
            "tags": [],
            "needs_background": "light"
          }
        }
      ]
    },
    {
      "cell_type": "markdown",
      "metadata": {
        "id": "KpY_Hv37evxY"
      },
      "source": [
        "##Feature Engineering\n",
        "\n",
        "---\n",
        "Clean up the data and delete the unuseful data"
      ]
    },
    {
      "cell_type": "markdown",
      "metadata": {
        "id": "1iQ64hjri0AG"
      },
      "source": [
        "Actions For Featutres \n",
        "* RowID           :Delete\n",
        "* OrderID         :Delete\n",
        "* OrderDate       :Time Series \n",
        "* ShipDate        :Time Series \n",
        "* ShipMode        :Time Series  \n",
        "* CustomerID      :Delete\n",
        "* CustomerName    :Delete\n",
        "* Segment         :Consumer/Corporate \n",
        "* Country         :Delete\n",
        "* City            \n",
        "* State           \n",
        "* PostalCode      \n",
        "* Region          : South / West/ North/ East/ Center\n",
        "* ProductID       :SKU_Nmuber\n",
        "* Category        \n",
        "* SubCategory     \n",
        "* ProductName     :Delet\n",
        "* Sales            \n",
        "* Quantity        \n",
        "* Discount        \n",
        "* Profit          \n"
      ]
    },
    {
      "cell_type": "code",
      "metadata": {
        "id": "uFj5P6qDexIJ",
        "outputId": "e4d2a148-2e58-44bd-a46b-3f6a09b072a5",
        "colab": {
          "base_uri": "https://localhost:8080/",
          "height": 102
        }
      },
      "source": [
        "# Review all column index\n",
        "df.columns.values"
      ],
      "execution_count": 15,
      "outputs": [
        {
          "output_type": "execute_result",
          "data": {
            "text/plain": [
              "array(['RowID', 'OrderID', 'OrderDate', 'ShipDate', 'ShipMode',\n",
              "       'CustomerID', 'CustomerName', 'Segment', 'Country', 'City',\n",
              "       'State', 'PostalCode', 'Region', 'ProductID', 'Category',\n",
              "       'SubCategory', 'ProductName', 'Sales', 'Quantity', 'Discount',\n",
              "       'Profit'], dtype=object)"
            ]
          },
          "metadata": {
            "tags": []
          },
          "execution_count": 15
        }
      ]
    },
    {
      "cell_type": "markdown",
      "metadata": {
        "id": "uJ2LI4QsdzxN"
      },
      "source": [
        "Missing Value\n",
        "\n",
        "---"
      ]
    },
    {
      "cell_type": "code",
      "metadata": {
        "id": "iBbUV19Udy1y",
        "outputId": "78d0096b-9f86-4f2f-d698-3fb15dce1abe",
        "colab": {
          "base_uri": "https://localhost:8080/",
          "height": 391
        }
      },
      "source": [
        "#Check Null Data \n",
        "df.isnull().sum()"
      ],
      "execution_count": 16,
      "outputs": [
        {
          "output_type": "execute_result",
          "data": {
            "text/plain": [
              "RowID             0\n",
              "OrderID           0\n",
              "OrderDate       806\n",
              "ShipDate        806\n",
              "ShipMode        806\n",
              "CustomerID      806\n",
              "CustomerName    806\n",
              "Segment         806\n",
              "Country         806\n",
              "City            806\n",
              "State           806\n",
              "PostalCode      817\n",
              "Region          806\n",
              "ProductID       806\n",
              "Category        806\n",
              "SubCategory     806\n",
              "ProductName     806\n",
              "Sales           806\n",
              "Quantity        806\n",
              "Discount        806\n",
              "Profit          806\n",
              "dtype: int64"
            ]
          },
          "metadata": {
            "tags": []
          },
          "execution_count": 16
        }
      ]
    },
    {
      "cell_type": "code",
      "metadata": {
        "id": "pF0-5pnpeSbl",
        "outputId": "747e8a22-bff7-493f-ec72-2a558f153e86",
        "colab": {
          "base_uri": "https://localhost:8080/",
          "height": 340
        }
      },
      "source": [
        "## Let us capture all the nan values\n",
        "## First lets handle Categorical features which are missing\n",
        "features_nan=[feature for feature in df.columns if df[feature].isnull().sum()>1]\n",
        "\n",
        "for feature in features_nan:\n",
        "    print(\"{}: {}% missing values\".format(feature,np.round(df[feature].isnull().mean(),4)))"
      ],
      "execution_count": 17,
      "outputs": [
        {
          "output_type": "stream",
          "text": [
            "OrderDate: 0.0746% missing values\n",
            "ShipDate: 0.0746% missing values\n",
            "ShipMode: 0.0746% missing values\n",
            "CustomerID: 0.0746% missing values\n",
            "CustomerName: 0.0746% missing values\n",
            "Segment: 0.0746% missing values\n",
            "Country: 0.0746% missing values\n",
            "City: 0.0746% missing values\n",
            "State: 0.0746% missing values\n",
            "PostalCode: 0.0756% missing values\n",
            "Region: 0.0746% missing values\n",
            "ProductID: 0.0746% missing values\n",
            "Category: 0.0746% missing values\n",
            "SubCategory: 0.0746% missing values\n",
            "ProductName: 0.0746% missing values\n",
            "Sales: 0.0746% missing values\n",
            "Quantity: 0.0746% missing values\n",
            "Discount: 0.0746% missing values\n",
            "Profit: 0.0746% missing values\n"
          ],
          "name": "stdout"
        }
      ]
    },
    {
      "cell_type": "code",
      "metadata": {
        "id": "9r2Qd8e3eXX9"
      },
      "source": [
        "df.fillna(df.mean(), inplace=True)"
      ],
      "execution_count": 18,
      "outputs": []
    },
    {
      "cell_type": "code",
      "metadata": {
        "id": "Zx3q67tMnqNG",
        "outputId": "0665a4cc-8c23-4473-a12d-2d5c8b09e4ec",
        "colab": {
          "base_uri": "https://localhost:8080/",
          "height": 391
        }
      },
      "source": [
        "#We can see all the floate64 dtype already fill in \n",
        "df.isnull().sum()"
      ],
      "execution_count": 19,
      "outputs": [
        {
          "output_type": "execute_result",
          "data": {
            "text/plain": [
              "RowID             0\n",
              "OrderID           0\n",
              "OrderDate       806\n",
              "ShipDate        806\n",
              "ShipMode        806\n",
              "CustomerID      806\n",
              "CustomerName    806\n",
              "Segment         806\n",
              "Country         806\n",
              "City            806\n",
              "State           806\n",
              "PostalCode        0\n",
              "Region          806\n",
              "ProductID       806\n",
              "Category        806\n",
              "SubCategory     806\n",
              "ProductName     806\n",
              "Sales             0\n",
              "Quantity          0\n",
              "Discount          0\n",
              "Profit            0\n",
              "dtype: int64"
            ]
          },
          "metadata": {
            "tags": []
          },
          "execution_count": 19
        }
      ]
    },
    {
      "cell_type": "code",
      "metadata": {
        "id": "Lz8mobZVoNpa"
      },
      "source": [
        "data = df.copy()"
      ],
      "execution_count": 20,
      "outputs": []
    },
    {
      "cell_type": "markdown",
      "metadata": {
        "id": "A2adBSqloDJB"
      },
      "source": [
        "# **Drop Data**\n",
        "\n",
        "**RowID**\n",
        "\n",
        "---\n",
        "\n",
        "\n",
        "\"RowId \" is not helpful of model training. Drop this attribute.\n"
      ]
    },
    {
      "cell_type": "code",
      "metadata": {
        "id": "6_3556wOoChD",
        "outputId": "ab267ce2-1a2d-4cd9-a377-10df7e4cd499",
        "colab": {
          "base_uri": "https://localhost:8080/",
          "height": 34
        }
      },
      "source": [
        "data = data.drop(\"RowID\", axis = 1)\n",
        "data.shape"
      ],
      "execution_count": 21,
      "outputs": [
        {
          "output_type": "execute_result",
          "data": {
            "text/plain": [
              "(10800, 20)"
            ]
          },
          "metadata": {
            "tags": []
          },
          "execution_count": 21
        }
      ]
    },
    {
      "cell_type": "markdown",
      "metadata": {
        "id": "T37CIAH1pGw0"
      },
      "source": [
        "**ShipMode**\n",
        "\n",
        "---\n",
        "\n",
        "\n",
        "\"ShipMode\" is not helpful of model training. Drop this attribute.\n"
      ]
    },
    {
      "cell_type": "code",
      "metadata": {
        "id": "KxGRElIbovYL",
        "outputId": "10f37b46-2a50-41fa-f69f-974e011c1195",
        "colab": {
          "base_uri": "https://localhost:8080/",
          "height": 34
        }
      },
      "source": [
        "data = data.drop(\"ShipMode\", axis = 1)\n",
        "data.shape"
      ],
      "execution_count": 22,
      "outputs": [
        {
          "output_type": "execute_result",
          "data": {
            "text/plain": [
              "(10800, 19)"
            ]
          },
          "metadata": {
            "tags": []
          },
          "execution_count": 22
        }
      ]
    },
    {
      "cell_type": "markdown",
      "metadata": {
        "id": "-G7K92OJpHix"
      },
      "source": [
        "**CustomerID**\n",
        "\n",
        "---\n",
        "\n",
        "\n",
        "\"CustomerID\" is not helpful of model training. Drop this attribute.\n"
      ]
    },
    {
      "cell_type": "code",
      "metadata": {
        "id": "48qoo_ubo1RF",
        "outputId": "34c9ce68-7c88-45d4-bdd2-af652466a072",
        "colab": {
          "base_uri": "https://localhost:8080/",
          "height": 34
        }
      },
      "source": [
        "data = data.drop(\"CustomerID\", axis = 1)\n",
        "data.shape"
      ],
      "execution_count": 23,
      "outputs": [
        {
          "output_type": "execute_result",
          "data": {
            "text/plain": [
              "(10800, 18)"
            ]
          },
          "metadata": {
            "tags": []
          },
          "execution_count": 23
        }
      ]
    },
    {
      "cell_type": "markdown",
      "metadata": {
        "id": "I6jzJYkFpIYB"
      },
      "source": [
        "**CustomerName**\n",
        "\n",
        "---\n",
        "\n",
        "\n",
        "\"CustomerName\" is not helpful of model training. Drop this attribute.\n"
      ]
    },
    {
      "cell_type": "code",
      "metadata": {
        "id": "qnyyzWjIo3e9",
        "outputId": "44db3c76-f323-41f7-fb68-081c37e97b3d",
        "colab": {
          "base_uri": "https://localhost:8080/",
          "height": 34
        }
      },
      "source": [
        "data = data.drop(\"CustomerName\", axis = 1)\n",
        "data.shape"
      ],
      "execution_count": 24,
      "outputs": [
        {
          "output_type": "execute_result",
          "data": {
            "text/plain": [
              "(10800, 17)"
            ]
          },
          "metadata": {
            "tags": []
          },
          "execution_count": 24
        }
      ]
    },
    {
      "cell_type": "markdown",
      "metadata": {
        "id": "PR2S3EWupJ3R"
      },
      "source": [
        "**Country**\n",
        "\n",
        "---\n",
        "\n",
        "\n",
        "\"Country\" is not helpful of model training. Drop this attribute.\n"
      ]
    },
    {
      "cell_type": "code",
      "metadata": {
        "id": "_xF-oew-o8q5",
        "outputId": "ec9c6de7-f3b1-4c72-dbdc-def8b179f6e1",
        "colab": {
          "base_uri": "https://localhost:8080/",
          "height": 34
        }
      },
      "source": [
        "data = data.drop(\"Country\", axis = 1)\n",
        "data.shape"
      ],
      "execution_count": 25,
      "outputs": [
        {
          "output_type": "execute_result",
          "data": {
            "text/plain": [
              "(10800, 16)"
            ]
          },
          "metadata": {
            "tags": []
          },
          "execution_count": 25
        }
      ]
    },
    {
      "cell_type": "markdown",
      "metadata": {
        "id": "88twaBzagF7b"
      },
      "source": [
        "**City**\n",
        "\n",
        "---\n",
        "\n",
        "\n",
        "\"City\" is not helpful of model training. Drop this attribute.\n"
      ]
    },
    {
      "cell_type": "code",
      "metadata": {
        "id": "4Bk8RxuBgGbZ",
        "outputId": "1697a128-b7de-40ba-bfdc-12cc0c62e832",
        "colab": {
          "base_uri": "https://localhost:8080/",
          "height": 34
        }
      },
      "source": [
        "data = data.drop(\"City\", axis = 1)\n",
        "data.shape"
      ],
      "execution_count": 26,
      "outputs": [
        {
          "output_type": "execute_result",
          "data": {
            "text/plain": [
              "(10800, 15)"
            ]
          },
          "metadata": {
            "tags": []
          },
          "execution_count": 26
        }
      ]
    },
    {
      "cell_type": "markdown",
      "metadata": {
        "id": "gav6a9u-gSus"
      },
      "source": [
        "**State**\n",
        "\n",
        "---\n",
        "\n",
        "\n",
        "\"State\" is not helpful of model training. Drop this attribute."
      ]
    },
    {
      "cell_type": "code",
      "metadata": {
        "id": "oBPIKOyFgTPB",
        "outputId": "2bbfae3d-d296-4bc9-adbf-6b2270382d03",
        "colab": {
          "base_uri": "https://localhost:8080/",
          "height": 34
        }
      },
      "source": [
        "data = data.drop(\"State\", axis = 1)\n",
        "data.shape"
      ],
      "execution_count": 27,
      "outputs": [
        {
          "output_type": "execute_result",
          "data": {
            "text/plain": [
              "(10800, 14)"
            ]
          },
          "metadata": {
            "tags": []
          },
          "execution_count": 27
        }
      ]
    },
    {
      "cell_type": "markdown",
      "metadata": {
        "id": "CdsqU0-SgT1h"
      },
      "source": [
        "**Category**\n",
        "\n",
        "---\n",
        "\n",
        "\n",
        "\"Category\" is not helpful of model training. Drop this attribute."
      ]
    },
    {
      "cell_type": "code",
      "metadata": {
        "id": "GYLOPCrRgUUp",
        "outputId": "6ba0b8d6-b324-4ee1-ad97-06b3427f355d",
        "colab": {
          "base_uri": "https://localhost:8080/",
          "height": 34
        }
      },
      "source": [
        "data = data.drop(\"Category\", axis = 1)\n",
        "data.shape"
      ],
      "execution_count": 28,
      "outputs": [
        {
          "output_type": "execute_result",
          "data": {
            "text/plain": [
              "(10800, 13)"
            ]
          },
          "metadata": {
            "tags": []
          },
          "execution_count": 28
        }
      ]
    },
    {
      "cell_type": "markdown",
      "metadata": {
        "id": "adqE-M2Ig5T9"
      },
      "source": [
        "**SubCategory**\n",
        "\n",
        "---\n",
        "\n",
        "\n",
        "\"Category\" is not helpful of model training. Drop this attribute."
      ]
    },
    {
      "cell_type": "code",
      "metadata": {
        "id": "cgRbz5k5g2yl",
        "outputId": "0fbcfe24-2293-44c7-8690-d277c1678697",
        "colab": {
          "base_uri": "https://localhost:8080/",
          "height": 34
        }
      },
      "source": [
        "data = data.drop(\"SubCategory\", axis = 1)\n",
        "data.shape"
      ],
      "execution_count": 29,
      "outputs": [
        {
          "output_type": "execute_result",
          "data": {
            "text/plain": [
              "(10800, 12)"
            ]
          },
          "metadata": {
            "tags": []
          },
          "execution_count": 29
        }
      ]
    },
    {
      "cell_type": "markdown",
      "metadata": {
        "id": "ierC_PANO09h"
      },
      "source": [
        "**ProductName**\n",
        "\n",
        "---\n",
        "\n",
        "\n",
        "\"ProductName\" is not helpful of model training. Drop this attribute."
      ]
    },
    {
      "cell_type": "code",
      "metadata": {
        "id": "c5k-aWrxpfZB",
        "outputId": "e8f38f93-f04e-4900-fcde-061a07b48b78",
        "colab": {
          "base_uri": "https://localhost:8080/",
          "height": 34
        }
      },
      "source": [
        "data = data.drop(\"ProductName\", axis = 1)\n",
        "data.shape"
      ],
      "execution_count": 30,
      "outputs": [
        {
          "output_type": "execute_result",
          "data": {
            "text/plain": [
              "(10800, 11)"
            ]
          },
          "metadata": {
            "tags": []
          },
          "execution_count": 30
        }
      ]
    },
    {
      "cell_type": "markdown",
      "metadata": {
        "id": "CE7Az4fcPI9Q"
      },
      "source": [
        "**Segment**\n",
        "\n",
        "---\n",
        "\n",
        "\n",
        "\"Segment\" will show us our customer come from Consumer and Corporate "
      ]
    },
    {
      "cell_type": "code",
      "metadata": {
        "id": "KvKsa9U5PahZ",
        "outputId": "a5ec42da-f188-4e76-ace6-2147c91df7b2",
        "colab": {
          "base_uri": "https://localhost:8080/",
          "height": 102
        }
      },
      "source": [
        "data.Segment.describe()"
      ],
      "execution_count": 31,
      "outputs": [
        {
          "output_type": "execute_result",
          "data": {
            "text/plain": [
              "count         9994\n",
              "unique           3\n",
              "top       Consumer\n",
              "freq          5191\n",
              "Name: Segment, dtype: object"
            ]
          },
          "metadata": {
            "tags": []
          },
          "execution_count": 31
        }
      ]
    },
    {
      "cell_type": "code",
      "metadata": {
        "id": "FVKibQe0QdX4",
        "outputId": "bfc580da-bef1-4bf9-aa2d-1ff95511534f",
        "colab": {
          "base_uri": "https://localhost:8080/",
          "height": 560
        }
      },
      "source": [
        "plt.figure(figsize=(15,8))\n",
        "ax = sns.countplot(data.Segment)\n",
        "ax.set_xticklabels(ax.get_xticklabels(), rotation=90, ha=\"right\")\n",
        "plt.show()"
      ],
      "execution_count": 32,
      "outputs": [
        {
          "output_type": "stream",
          "text": [
            "/usr/local/lib/python3.6/dist-packages/seaborn/_decorators.py:43: FutureWarning: Pass the following variable as a keyword arg: x. From version 0.12, the only valid positional argument will be `data`, and passing other arguments without an explicit keyword will result in an error or misinterpretation.\n",
            "  FutureWarning\n"
          ],
          "name": "stderr"
        },
        {
          "output_type": "display_data",
          "data": {
            "image/png": "[encoded data removed]",
            "text/plain": [
              "<Figure size 1080x576 with 1 Axes>"
            ]
          },
          "metadata": {
            "tags": [],
            "needs_background": "light"
          }
        }
      ]
    },
    {
      "cell_type": "markdown",
      "metadata": {
        "id": "HQ4FFVJQRu-5"
      },
      "source": [
        "**Region**\n",
        "\n",
        "---\n",
        "\n",
        "\n",
        "\"Region\" will show us our whitch city has best profite "
      ]
    },
    {
      "cell_type": "code",
      "metadata": {
        "id": "7YU-B1QAPJli",
        "outputId": "f1f78f4b-0762-455d-db3d-f6d5c7706937",
        "colab": {
          "base_uri": "https://localhost:8080/",
          "height": 536
        }
      },
      "source": [
        "plt.figure(figsize=(15,8))\n",
        "ax = sns.countplot(data.Region )\n",
        "ax.set_xticklabels(ax.get_xticklabels(), rotation=90, ha=\"right\")\n",
        "plt.show()"
      ],
      "execution_count": 33,
      "outputs": [
        {
          "output_type": "stream",
          "text": [
            "/usr/local/lib/python3.6/dist-packages/seaborn/_decorators.py:43: FutureWarning: Pass the following variable as a keyword arg: x. From version 0.12, the only valid positional argument will be `data`, and passing other arguments without an explicit keyword will result in an error or misinterpretation.\n",
            "  FutureWarning\n"
          ],
          "name": "stderr"
        },
        {
          "output_type": "display_data",
          "data": {
            "image/png": "[encoded data removed]",
            "text/plain": [
              "<Figure size 1080x576 with 1 Axes>"
            ]
          },
          "metadata": {
            "tags": [],
            "needs_background": "light"
          }
        }
      ]
    },
    {
      "cell_type": "markdown",
      "metadata": {
        "id": "2QL1bsHCSusC"
      },
      "source": [
        "**Category**\n",
        "\n",
        "---\n",
        "\n",
        "\n",
        "\"Category\" will show us our whitch city has best profite "
      ]
    },
    {
      "cell_type": "code",
      "metadata": {
        "id": "idaUlH_YhCoC",
        "outputId": "001ebea4-71fc-49a2-b294-29208e509314",
        "colab": {
          "base_uri": "https://localhost:8080/",
          "height": 451
        }
      },
      "source": [
        "df.Category.value_counts().plot(kind='bar',figsize=(18,8))"
      ],
      "execution_count": 34,
      "outputs": [
        {
          "output_type": "execute_result",
          "data": {
            "text/plain": [
              "<matplotlib.axes._subplots.AxesSubplot at 0x7f8f7a322e10>"
            ]
          },
          "metadata": {
            "tags": []
          },
          "execution_count": 34
        },
        {
          "output_type": "display_data",
          "data": {
            "image/png": "[encoded data removed]",
            "text/plain": [
              "<Figure size 1296x576 with 1 Axes>"
            ]
          },
          "metadata": {
            "tags": [],
            "needs_background": "light"
          }
        }
      ]
    },
    {
      "cell_type": "markdown",
      "metadata": {
        "id": "6nsNsvLnS-Cm"
      },
      "source": [
        "**Price**\n",
        "\n",
        "---\n",
        "\n",
        "\n",
        "\"Price\" need carefully about outliers and null value "
      ]
    },
    {
      "cell_type": "code",
      "metadata": {
        "id": "87Q4d4krTB_Y",
        "outputId": "d3b6665c-828b-47bf-d5b1-03aa24e70ab3",
        "colab": {
          "base_uri": "https://localhost:8080/",
          "height": 170
        }
      },
      "source": [
        "data.Sales.describe()"
      ],
      "execution_count": 35,
      "outputs": [
        {
          "output_type": "execute_result",
          "data": {
            "text/plain": [
              "count    10800.000000\n",
              "mean       229.858001\n",
              "std        599.535697\n",
              "min          0.444000\n",
              "25%         18.900000\n",
              "50%         65.955000\n",
              "75%        229.858001\n",
              "max      22638.480000\n",
              "Name: Sales, dtype: float64"
            ]
          },
          "metadata": {
            "tags": []
          },
          "execution_count": 35
        }
      ]
    },
    {
      "cell_type": "code",
      "metadata": {
        "id": "KS-Tuq8oTRyL",
        "outputId": "75962378-0b99-47ed-dda6-2966e7469545",
        "colab": {
          "base_uri": "https://localhost:8080/",
          "height": 34
        }
      },
      "source": [
        "data.Sales.isnull().sum()\n"
      ],
      "execution_count": 36,
      "outputs": [
        {
          "output_type": "execute_result",
          "data": {
            "text/plain": [
              "0"
            ]
          },
          "metadata": {
            "tags": []
          },
          "execution_count": 36
        }
      ]
    },
    {
      "cell_type": "code",
      "metadata": {
        "id": "wKRWJ7XdTdCQ",
        "outputId": "a36674f8-101e-4b65-d951-97a6ad96a64d",
        "colab": {
          "base_uri": "https://localhost:8080/",
          "height": 34
        }
      },
      "source": [
        "data.shape"
      ],
      "execution_count": 37,
      "outputs": [
        {
          "output_type": "execute_result",
          "data": {
            "text/plain": [
              "(10800, 11)"
            ]
          },
          "metadata": {
            "tags": []
          },
          "execution_count": 37
        }
      ]
    },
    {
      "cell_type": "markdown",
      "metadata": {
        "id": "G_X7C2gMUMv2"
      },
      "source": [
        "**Discount**\n",
        "\n",
        "---\n",
        "\n",
        "\n",
        "\"Discount\" need carefully about outliers that means discount over 50% off, we don't have profit in this item, so we need to know which orderId."
      ]
    },
    {
      "cell_type": "code",
      "metadata": {
        "id": "qD9kYaW6UKuU",
        "outputId": "01f4fb86-da18-4b94-e981-85bf9ae3c78f",
        "colab": {
          "base_uri": "https://localhost:8080/",
          "height": 170
        }
      },
      "source": [
        "data.Discount.describe()"
      ],
      "execution_count": 38,
      "outputs": [
        {
          "output_type": "execute_result",
          "data": {
            "text/plain": [
              "count    10800.000000\n",
              "mean         0.156203\n",
              "std          0.198598\n",
              "min          0.000000\n",
              "25%          0.000000\n",
              "50%          0.156203\n",
              "75%          0.200000\n",
              "max          0.800000\n",
              "Name: Discount, dtype: float64"
            ]
          },
          "metadata": {
            "tags": []
          },
          "execution_count": 38
        }
      ]
    },
    {
      "cell_type": "code",
      "metadata": {
        "id": "VXlWb9GjiCH2",
        "outputId": "89175c55-adf5-4edf-9ec4-ecd7dfb43ea1",
        "colab": {
          "base_uri": "https://localhost:8080/",
          "height": 272
        }
      },
      "source": [
        "# Discount higher than 0.5\n",
        "temp = data[data.Discount > 0.5]\n",
        "cnt = temp.shape[0]\n",
        "temp1 = data.loc[data['Discount'] >0.5]\n",
        "print(\"Discount higher than 0.5: \", cnt)\n",
        "print (temp1)"
      ],
      "execution_count": 39,
      "outputs": [
        {
          "output_type": "stream",
          "text": [
            "Discount higher than 0.5:  856\n",
            "             OrderID OrderDate  ShipDate  ... Quantity  Discount    Profit\n",
            "14    US-2016-118983  11/22/16  11/26/16  ...      5.0       0.8 -123.8580\n",
            "15    US-2016-118983  11/22/16  11/26/16  ...      3.0       0.8   -3.8160\n",
            "28    US-2016-150630   9/17/16   9/21/16  ...      2.0       0.7   -7.0532\n",
            "32    US-2016-150630   9/17/16   9/21/16  ...      6.0       0.7   -5.7150\n",
            "36    CA-2017-117590   12/8/17  12/10/17  ...      5.0       0.6 -147.9630\n",
            "...              ...       ...       ...  ...      ...       ...       ...\n",
            "9870  CA-2015-114195   11/1/15   11/3/15  ...      3.0       0.7  -17.9424\n",
            "9877  US-2018-166324   4/20/18   4/21/18  ...      5.0       0.7   -6.3800\n",
            "9903  CA-2015-122609  11/12/15  11/18/15  ...      3.0       0.6   -6.9102\n",
            "9920  CA-2017-149272   3/15/17   3/19/17  ...      7.0       0.8  -35.8176\n",
            "9921  CA-2015-111360  11/24/15  11/30/15  ...      3.0       0.7   -4.5936\n",
            "\n",
            "[856 rows x 11 columns]\n"
          ],
          "name": "stdout"
        }
      ]
    },
    {
      "cell_type": "markdown",
      "metadata": {
        "id": "qyhoa5PhRwR3"
      },
      "source": [
        "**Profit**\n",
        "\n",
        "---\n",
        "\n",
        "\n",
        "\"Profit\" will find out how many order we don't have profit and we also need to know the orderid \n"
      ]
    },
    {
      "cell_type": "code",
      "metadata": {
        "id": "2iffYWlpULFX",
        "outputId": "d7cdff6a-772c-4d00-be91-84fe159d2f31",
        "colab": {
          "base_uri": "https://localhost:8080/",
          "height": 170
        }
      },
      "source": [
        "data.Profit.describe()"
      ],
      "execution_count": 40,
      "outputs": [
        {
          "output_type": "execute_result",
          "data": {
            "text/plain": [
              "count    10800.000000\n",
              "mean        28.656896\n",
              "std        225.348417\n",
              "min      -6599.978000\n",
              "25%          2.228650\n",
              "50%         10.067800\n",
              "75%         28.656896\n",
              "max       8399.976000\n",
              "Name: Profit, dtype: float64"
            ]
          },
          "metadata": {
            "tags": []
          },
          "execution_count": 40
        }
      ]
    },
    {
      "cell_type": "code",
      "metadata": {
        "id": "AWy6zjPRnt5u",
        "outputId": "e601a6fe-1988-4226-a104-358ffd7f72dd",
        "colab": {
          "base_uri": "https://localhost:8080/",
          "height": 272
        }
      },
      "source": [
        "# Discount higher than 0.5\n",
        "Pro1 = data[data.Profit < 0]\n",
        "cnt = Pro1.shape[0]\n",
        "temp1 = data.loc[data['Profit'] <0]\n",
        "print(\"Discount higher than 0.5: \", cnt)\n",
        "print (temp1)"
      ],
      "execution_count": 41,
      "outputs": [
        {
          "output_type": "stream",
          "text": [
            "Discount higher than 0.5:  1871\n",
            "             OrderID OrderDate  ShipDate  ... Quantity  Discount     Profit\n",
            "3     US-2016-108966  10/11/16  10/18/16  ...      5.0      0.45  -383.0310\n",
            "14    US-2016-118983  11/22/16  11/26/16  ...      5.0      0.80  -123.8580\n",
            "15    US-2016-118983  11/22/16  11/26/16  ...      3.0      0.80    -3.8160\n",
            "23    US-2018-156909   7/16/18   7/18/18  ...      2.0      0.30    -1.0196\n",
            "27    US-2016-150630   9/17/16   9/21/16  ...      7.0      0.50 -1665.0522\n",
            "...              ...       ...       ...  ...      ...       ...        ...\n",
            "9920  CA-2017-149272   3/15/17   3/19/17  ...      7.0      0.80   -35.8176\n",
            "9921  CA-2015-111360  11/24/15  11/30/15  ...      3.0      0.70    -4.5936\n",
            "9931  CA-2016-104948  11/13/16  11/17/16  ...      4.0      0.15   -40.1960\n",
            "9937  CA-2017-164889    6/3/17    6/6/17  ...      2.0      0.20    -1.7772\n",
            "9962  CA-2016-168088   3/19/16   3/22/16  ...      4.0      0.32   -67.6704\n",
            "\n",
            "[1871 rows x 11 columns]\n"
          ],
          "name": "stdout"
        }
      ]
    },
    {
      "cell_type": "code",
      "metadata": {
        "id": "lTb-_dZHpUEX",
        "outputId": "741ee6d8-a101-4dd3-bec7-71a4edb36341",
        "colab": {
          "base_uri": "https://localhost:8080/",
          "height": 204
        }
      },
      "source": [
        "# Correlation table,feature and feature correlation\n",
        "corMat = df.corr(method='pearson')\n",
        "corMat"
      ],
      "execution_count": 42,
      "outputs": [
        {
          "output_type": "execute_result",
          "data": {
            "text/html": [
              "<div>\n",
              "<style scoped>\n",
              "    .dataframe tbody tr th:only-of-type {\n",
              "        vertical-align: middle;\n",
              "    }\n",
              "\n",
              "    .dataframe tbody tr th {\n",
              "        vertical-align: top;\n",
              "    }\n",
              "\n",
              "    .dataframe thead th {\n",
              "        text-align: right;\n",
              "    }\n",
              "</style>\n",
              "<table border=\"1\" class=\"dataframe\">\n",
              "  <thead>\n",
              "    <tr style=\"text-align: right;\">\n",
              "      <th></th>\n",
              "      <th>PostalCode</th>\n",
              "      <th>Sales</th>\n",
              "      <th>Quantity</th>\n",
              "      <th>Discount</th>\n",
              "      <th>Profit</th>\n",
              "    </tr>\n",
              "  </thead>\n",
              "  <tbody>\n",
              "    <tr>\n",
              "      <th>PostalCode</th>\n",
              "      <td>1.000000</td>\n",
              "      <td>-0.022286</td>\n",
              "      <td>0.013360</td>\n",
              "      <td>0.057225</td>\n",
              "      <td>-0.028718</td>\n",
              "    </tr>\n",
              "    <tr>\n",
              "      <th>Sales</th>\n",
              "      <td>-0.022286</td>\n",
              "      <td>1.000000</td>\n",
              "      <td>0.200795</td>\n",
              "      <td>-0.028190</td>\n",
              "      <td>0.479064</td>\n",
              "    </tr>\n",
              "    <tr>\n",
              "      <th>Quantity</th>\n",
              "      <td>0.013360</td>\n",
              "      <td>0.200795</td>\n",
              "      <td>1.000000</td>\n",
              "      <td>0.008623</td>\n",
              "      <td>0.066253</td>\n",
              "    </tr>\n",
              "    <tr>\n",
              "      <th>Discount</th>\n",
              "      <td>0.057225</td>\n",
              "      <td>-0.028190</td>\n",
              "      <td>0.008623</td>\n",
              "      <td>1.000000</td>\n",
              "      <td>-0.219487</td>\n",
              "    </tr>\n",
              "    <tr>\n",
              "      <th>Profit</th>\n",
              "      <td>-0.028718</td>\n",
              "      <td>0.479064</td>\n",
              "      <td>0.066253</td>\n",
              "      <td>-0.219487</td>\n",
              "      <td>1.000000</td>\n",
              "    </tr>\n",
              "  </tbody>\n",
              "</table>\n",
              "</div>"
            ],
            "text/plain": [
              "            PostalCode     Sales  Quantity  Discount    Profit\n",
              "PostalCode    1.000000 -0.022286  0.013360  0.057225 -0.028718\n",
              "Sales        -0.022286  1.000000  0.200795 -0.028190  0.479064\n",
              "Quantity      0.013360  0.200795  1.000000  0.008623  0.066253\n",
              "Discount      0.057225 -0.028190  0.008623  1.000000 -0.219487\n",
              "Profit       -0.028718  0.479064  0.066253 -0.219487  1.000000"
            ]
          },
          "metadata": {
            "tags": []
          },
          "execution_count": 42
        }
      ]
    },
    {
      "cell_type": "code",
      "metadata": {
        "id": "dXMaAj2PpnS1",
        "outputId": "8eff9160-9675-40e2-ab8e-ffe71495b7f5",
        "colab": {
          "base_uri": "https://localhost:8080/",
          "height": 733
        }
      },
      "source": [
        "# Heat map_positive and negative correlation\n",
        "plt.subplots(figsize=(20,12))\n",
        "corrmat = df.corr()\n",
        "plt.title(\"Correlation Matrix\")\n",
        "sns.heatmap(corrmat, vmax=0.9, square=True, cmap=\"Oranges\", annot=True, fmt='.1f', linewidth='.1')\n"
      ],
      "execution_count": 43,
      "outputs": [
        {
          "output_type": "execute_result",
          "data": {
            "text/plain": [
              "<matplotlib.axes._subplots.AxesSubplot at 0x7f8f78f3a240>"
            ]
          },
          "metadata": {
            "tags": []
          },
          "execution_count": 43
        },
        {
          "output_type": "display_data",
          "data": {
            "image/png": "[encoded data removed]",
            "text/plain": [
              "<Figure size 1440x864 with 2 Axes>"
            ]
          },
          "metadata": {
            "tags": [],
            "needs_background": "light"
          }
        }
      ]
    },
    {
      "cell_type": "markdown",
      "metadata": {
        "id": "E2Dz9Wq_qvWI"
      },
      "source": [
        "From the heatmap we can see the discount is effected a lot of profit, discount and profit is negative relative, and sales with profit are positive relative"
      ]
    },
    {
      "cell_type": "markdown",
      "metadata": {
        "id": "3mwPMCdlrOq4"
      },
      "source": [
        "**Data Nomolization**\n",
        "\n",
        "---\n"
      ]
    },
    {
      "cell_type": "code",
      "metadata": {
        "id": "zJNbWG__rfzD",
        "outputId": "fa9daaaa-9d25-4e5c-f4c2-27fc6e5ce7da",
        "colab": {
          "base_uri": "https://localhost:8080/",
          "height": 394
        }
      },
      "source": [
        "# Normalization\n",
        "def normalize(data,columns):\n",
        "    for c in columns:\n",
        "      data[c]=((data[c]-data[c].min())/(data[c].max()-data[c].min()))\n",
        "    return data\n",
        "\n",
        "columns = ['Profit','Sales','Discount']\n",
        "data= normalize(data,columns)\n",
        "\n",
        "data.head()"
      ],
      "execution_count": 44,
      "outputs": [
        {
          "output_type": "execute_result",
          "data": {
            "text/html": [
              "<div>\n",
              "<style scoped>\n",
              "    .dataframe tbody tr th:only-of-type {\n",
              "        vertical-align: middle;\n",
              "    }\n",
              "\n",
              "    .dataframe tbody tr th {\n",
              "        vertical-align: top;\n",
              "    }\n",
              "\n",
              "    .dataframe thead th {\n",
              "        text-align: right;\n",
              "    }\n",
              "</style>\n",
              "<table border=\"1\" class=\"dataframe\">\n",
              "  <thead>\n",
              "    <tr style=\"text-align: right;\">\n",
              "      <th></th>\n",
              "      <th>OrderID</th>\n",
              "      <th>OrderDate</th>\n",
              "      <th>ShipDate</th>\n",
              "      <th>Segment</th>\n",
              "      <th>PostalCode</th>\n",
              "      <th>Region</th>\n",
              "      <th>ProductID</th>\n",
              "      <th>Sales</th>\n",
              "      <th>Quantity</th>\n",
              "      <th>Discount</th>\n",
              "      <th>Profit</th>\n",
              "    </tr>\n",
              "  </thead>\n",
              "  <tbody>\n",
              "    <tr>\n",
              "      <th>0</th>\n",
              "      <td>CA-2017-152156</td>\n",
              "      <td>11/8/17</td>\n",
              "      <td>11/11/17</td>\n",
              "      <td>Consumer</td>\n",
              "      <td>42420.0</td>\n",
              "      <td>South</td>\n",
              "      <td>FUR-BO-10001798</td>\n",
              "      <td>0.011552</td>\n",
              "      <td>2.0</td>\n",
              "      <td>0.0000</td>\n",
              "      <td>0.442794</td>\n",
              "    </tr>\n",
              "    <tr>\n",
              "      <th>1</th>\n",
              "      <td>CA-2017-152156</td>\n",
              "      <td>11/8/17</td>\n",
              "      <td>11/11/17</td>\n",
              "      <td>Consumer</td>\n",
              "      <td>42420.0</td>\n",
              "      <td>South</td>\n",
              "      <td>FUR-CH-10000454</td>\n",
              "      <td>0.032313</td>\n",
              "      <td>3.0</td>\n",
              "      <td>0.0000</td>\n",
              "      <td>0.454639</td>\n",
              "    </tr>\n",
              "    <tr>\n",
              "      <th>2</th>\n",
              "      <td>CA-2017-138688</td>\n",
              "      <td>6/12/17</td>\n",
              "      <td>6/16/17</td>\n",
              "      <td>Corporate</td>\n",
              "      <td>90036.0</td>\n",
              "      <td>West</td>\n",
              "      <td>OFF-LA-10000240</td>\n",
              "      <td>0.000626</td>\n",
              "      <td>2.0</td>\n",
              "      <td>0.0000</td>\n",
              "      <td>0.440458</td>\n",
              "    </tr>\n",
              "    <tr>\n",
              "      <th>3</th>\n",
              "      <td>US-2016-108966</td>\n",
              "      <td>10/11/16</td>\n",
              "      <td>10/18/16</td>\n",
              "      <td>Consumer</td>\n",
              "      <td>33311.0</td>\n",
              "      <td>South</td>\n",
              "      <td>FUR-TA-10000577</td>\n",
              "      <td>0.042280</td>\n",
              "      <td>5.0</td>\n",
              "      <td>0.5625</td>\n",
              "      <td>0.414464</td>\n",
              "    </tr>\n",
              "    <tr>\n",
              "      <th>4</th>\n",
              "      <td>US-2016-108966</td>\n",
              "      <td>10/11/16</td>\n",
              "      <td>10/18/16</td>\n",
              "      <td>Consumer</td>\n",
              "      <td>33311.0</td>\n",
              "      <td>South</td>\n",
              "      <td>OFF-ST-10000760</td>\n",
              "      <td>0.000968</td>\n",
              "      <td>2.0</td>\n",
              "      <td>0.2500</td>\n",
              "      <td>0.440168</td>\n",
              "    </tr>\n",
              "  </tbody>\n",
              "</table>\n",
              "</div>"
            ],
            "text/plain": [
              "          OrderID OrderDate  ShipDate  ... Quantity  Discount    Profit\n",
              "0  CA-2017-152156   11/8/17  11/11/17  ...      2.0    0.0000  0.442794\n",
              "1  CA-2017-152156   11/8/17  11/11/17  ...      3.0    0.0000  0.454639\n",
              "2  CA-2017-138688   6/12/17   6/16/17  ...      2.0    0.0000  0.440458\n",
              "3  US-2016-108966  10/11/16  10/18/16  ...      5.0    0.5625  0.414464\n",
              "4  US-2016-108966  10/11/16  10/18/16  ...      2.0    0.2500  0.440168\n",
              "\n",
              "[5 rows x 11 columns]"
            ]
          },
          "metadata": {
            "tags": []
          },
          "execution_count": 44
        }
      ]
    },
    {
      "cell_type": "code",
      "metadata": {
        "id": "Txicz_ussERk"
      },
      "source": [
        "# Data Type Converting for One Hot Encoding\n",
        "def typeconverter(data,columns,type='str'):\n",
        "    for c in columns:\n",
        "      data[c]=data[c].astype(type)\n",
        "    return data"
      ],
      "execution_count": 45,
      "outputs": []
    },
    {
      "cell_type": "code",
      "metadata": {
        "id": "uyEMDWIEsNp6",
        "outputId": "1a0ae2fd-d10b-45d2-cfb9-00310b4ed94b",
        "colab": {
          "base_uri": "https://localhost:8080/",
          "height": 394
        }
      },
      "source": [
        "data.head()"
      ],
      "execution_count": 46,
      "outputs": [
        {
          "output_type": "execute_result",
          "data": {
            "text/html": [
              "<div>\n",
              "<style scoped>\n",
              "    .dataframe tbody tr th:only-of-type {\n",
              "        vertical-align: middle;\n",
              "    }\n",
              "\n",
              "    .dataframe tbody tr th {\n",
              "        vertical-align: top;\n",
              "    }\n",
              "\n",
              "    .dataframe thead th {\n",
              "        text-align: right;\n",
              "    }\n",
              "</style>\n",
              "<table border=\"1\" class=\"dataframe\">\n",
              "  <thead>\n",
              "    <tr style=\"text-align: right;\">\n",
              "      <th></th>\n",
              "      <th>OrderID</th>\n",
              "      <th>OrderDate</th>\n",
              "      <th>ShipDate</th>\n",
              "      <th>Segment</th>\n",
              "      <th>PostalCode</th>\n",
              "      <th>Region</th>\n",
              "      <th>ProductID</th>\n",
              "      <th>Sales</th>\n",
              "      <th>Quantity</th>\n",
              "      <th>Discount</th>\n",
              "      <th>Profit</th>\n",
              "    </tr>\n",
              "  </thead>\n",
              "  <tbody>\n",
              "    <tr>\n",
              "      <th>0</th>\n",
              "      <td>CA-2017-152156</td>\n",
              "      <td>11/8/17</td>\n",
              "      <td>11/11/17</td>\n",
              "      <td>Consumer</td>\n",
              "      <td>42420.0</td>\n",
              "      <td>South</td>\n",
              "      <td>FUR-BO-10001798</td>\n",
              "      <td>0.011552</td>\n",
              "      <td>2.0</td>\n",
              "      <td>0.0000</td>\n",
              "      <td>0.442794</td>\n",
              "    </tr>\n",
              "    <tr>\n",
              "      <th>1</th>\n",
              "      <td>CA-2017-152156</td>\n",
              "      <td>11/8/17</td>\n",
              "      <td>11/11/17</td>\n",
              "      <td>Consumer</td>\n",
              "      <td>42420.0</td>\n",
              "      <td>South</td>\n",
              "      <td>FUR-CH-10000454</td>\n",
              "      <td>0.032313</td>\n",
              "      <td>3.0</td>\n",
              "      <td>0.0000</td>\n",
              "      <td>0.454639</td>\n",
              "    </tr>\n",
              "    <tr>\n",
              "      <th>2</th>\n",
              "      <td>CA-2017-138688</td>\n",
              "      <td>6/12/17</td>\n",
              "      <td>6/16/17</td>\n",
              "      <td>Corporate</td>\n",
              "      <td>90036.0</td>\n",
              "      <td>West</td>\n",
              "      <td>OFF-LA-10000240</td>\n",
              "      <td>0.000626</td>\n",
              "      <td>2.0</td>\n",
              "      <td>0.0000</td>\n",
              "      <td>0.440458</td>\n",
              "    </tr>\n",
              "    <tr>\n",
              "      <th>3</th>\n",
              "      <td>US-2016-108966</td>\n",
              "      <td>10/11/16</td>\n",
              "      <td>10/18/16</td>\n",
              "      <td>Consumer</td>\n",
              "      <td>33311.0</td>\n",
              "      <td>South</td>\n",
              "      <td>FUR-TA-10000577</td>\n",
              "      <td>0.042280</td>\n",
              "      <td>5.0</td>\n",
              "      <td>0.5625</td>\n",
              "      <td>0.414464</td>\n",
              "    </tr>\n",
              "    <tr>\n",
              "      <th>4</th>\n",
              "      <td>US-2016-108966</td>\n",
              "      <td>10/11/16</td>\n",
              "      <td>10/18/16</td>\n",
              "      <td>Consumer</td>\n",
              "      <td>33311.0</td>\n",
              "      <td>South</td>\n",
              "      <td>OFF-ST-10000760</td>\n",
              "      <td>0.000968</td>\n",
              "      <td>2.0</td>\n",
              "      <td>0.2500</td>\n",
              "      <td>0.440168</td>\n",
              "    </tr>\n",
              "  </tbody>\n",
              "</table>\n",
              "</div>"
            ],
            "text/plain": [
              "          OrderID OrderDate  ShipDate  ... Quantity  Discount    Profit\n",
              "0  CA-2017-152156   11/8/17  11/11/17  ...      2.0    0.0000  0.442794\n",
              "1  CA-2017-152156   11/8/17  11/11/17  ...      3.0    0.0000  0.454639\n",
              "2  CA-2017-138688   6/12/17   6/16/17  ...      2.0    0.0000  0.440458\n",
              "3  US-2016-108966  10/11/16  10/18/16  ...      5.0    0.5625  0.414464\n",
              "4  US-2016-108966  10/11/16  10/18/16  ...      2.0    0.2500  0.440168\n",
              "\n",
              "[5 rows x 11 columns]"
            ]
          },
          "metadata": {
            "tags": []
          },
          "execution_count": 46
        }
      ]
    },
    {
      "cell_type": "markdown",
      "metadata": {
        "id": "NFG7z_z1si2R"
      },
      "source": [
        "#**Split Dataset**\n",
        "\n",
        "**Modeling portion**\n",
        "\n",
        "\n",
        "---"
      ]
    },
    {
      "cell_type": "code",
      "metadata": {
        "id": "zWoYq3NGskMi"
      },
      "source": [
        "from sklearn.model_selection import train_test_split\n",
        "data = pd.get_dummies(df)\n",
        "X= data.drop(['Sales','Profit'], axis=1)\n",
        "y =data ['Sales']\n",
        "\n",
        "X_train, X_test, y_train, y_test = train_test_split(X,y, random_state=1)"
      ],
      "execution_count": 47,
      "outputs": []
    },
    {
      "cell_type": "markdown",
      "metadata": {
        "id": "KDUdwT62sr9c"
      },
      "source": [
        "**Linear Regression**\n",
        "\n",
        "\n",
        "---"
      ]
    },
    {
      "cell_type": "code",
      "metadata": {
        "id": "SHv_vgp2sqkt",
        "outputId": "19e29dfc-3ecf-41a3-9bfb-825c9d873882",
        "colab": {
          "base_uri": "https://localhost:8080/",
          "height": 102
        }
      },
      "source": [
        "from sklearn.linear_model import LinearRegression\n",
        "from sklearn.metrics import mean_squared_error \n",
        "from math import sqrt\n",
        "\n",
        "model = LinearRegression().fit(X_train, y_train)\n",
        "y_pred = model.predict(X_test)\n",
        "\n",
        "#mean_squared_error: more small more better \n",
        "error = sqrt(mean_squared_error(y_test,y_pred))\n",
        "print('RMSE:',error)\n",
        "\n",
        "#R^2 ～= 1 is bitter\n",
        "# R^2 = 1- ((y_true - y_pred) ** 2).sum() / (y_true - y_true.mean()) ** 2).sum()\n",
        "print('R^2:', model.score(X_test, y_test))\n",
        "\n",
        "# y = ax+b where a is coefficient and b is intercept\n",
        "print('Intercept:', model.intercept_)\n",
        "print('Coefficient:',model.coef_)"
      ],
      "execution_count": 48,
      "outputs": [
        {
          "output_type": "stream",
          "text": [
            "RMSE: 392.43204109498004\n",
            "R^2: 0.5644260713359137\n",
            "Intercept: 143.849515627895\n",
            "Coefficient: [-9.82785029e-04  5.63916434e+01 -2.77438529e+02 ... -1.92993927e+02\n",
            " -9.92719958e+01 -8.75479751e+01]\n"
          ],
          "name": "stdout"
        }
      ]
    },
    {
      "cell_type": "code",
      "metadata": {
        "id": "YOsf5A-Hsy1X",
        "outputId": "a16e4065-3db4-4af8-bcda-65b070f3ccb5",
        "colab": {
          "base_uri": "https://localhost:8080/",
          "height": 314
        }
      },
      "source": [
        "plt.figure(figsize=(6, 4))\n",
        "plt.scatter(y_test, y_pred, s=20,alpha=0.1)\n",
        "plt.title('Estimated Sales vs. Real Sales')\n",
        "plt.xlabel('Real Sales')\n",
        "plt.ylabel('Predicted Sales')\n",
        "\n",
        "plt.plot([min(y_test), max(y_test)], [min(y_test), max(y_test)], 'r')\n",
        "plt.tight_layout()\n",
        "print(\"Linear Regression\",model.score(X_train, y_train))"
      ],
      "execution_count": 49,
      "outputs": [
        {
          "output_type": "stream",
          "text": [
            "Linear Regression 1.0\n"
          ],
          "name": "stdout"
        },
        {
          "output_type": "display_data",
          "data": {
            "image/png": "[encoded data removed]",
            "text/plain": [
              "<Figure size 432x288 with 1 Axes>"
            ]
          },
          "metadata": {
            "tags": [],
            "needs_background": "light"
          }
        }
      ]
    },
    {
      "cell_type": "markdown",
      "metadata": {
        "id": "GoQQORCotO9U"
      },
      "source": [
        "**Random Forest Regression**\n",
        "\n",
        "\n",
        "---"
      ]
    },
    {
      "cell_type": "code",
      "metadata": {
        "id": "CyaXI601tMTj",
        "outputId": "b7a1737f-62df-48c1-87f9-0b8f5efe7e6f",
        "colab": {
          "base_uri": "https://localhost:8080/",
          "height": 34
        }
      },
      "source": [
        "from sklearn.ensemble import RandomForestRegressor\n",
        "\n",
        "rfr = RandomForestRegressor(n_estimators=10)\n",
        "rfr.fit(X_train, y_train)\n",
        "rfr.score(X_test, y_test)"
      ],
      "execution_count": 50,
      "outputs": [
        {
          "output_type": "execute_result",
          "data": {
            "text/plain": [
              "0.5872892035509085"
            ]
          },
          "metadata": {
            "tags": []
          },
          "execution_count": 50
        }
      ]
    },
    {
      "cell_type": "code",
      "metadata": {
        "id": "3OZojVBntR63",
        "outputId": "8320dcf2-7401-4c94-9645-bb3ea5cafe61",
        "colab": {
          "base_uri": "https://localhost:8080/",
          "height": 297
        }
      },
      "source": [
        "y_pred= rfr.predict(X_test)\n",
        "\n",
        "plt.figure(figsize=(6, 4))\n",
        "plt.scatter(y_test, y_pred, s=20,alpha=0.1)\n",
        "plt.title('Estimated Price vs. Real Price')\n",
        "plt.xlabel('Real Price')\n",
        "plt.ylabel('Predicted Price')\n",
        "\n",
        "plt.plot([min(y_test), max(y_test)], [min(y_test), max(y_test)], 'r')\n",
        "plt.tight_layout()"
      ],
      "execution_count": 51,
      "outputs": [
        {
          "output_type": "display_data",
          "data": {
            "image/png": "[encoded data removed]",
            "text/plain": [
              "<Figure size 432x288 with 1 Axes>"
            ]
          },
          "metadata": {
            "tags": [],
            "needs_background": "light"
          }
        }
      ]
    },
    {
      "cell_type": "markdown",
      "metadata": {
        "id": "j7ViWgU4YfmZ"
      },
      "source": [
        "**Decision Tree Regressor**\n",
        "\n",
        "---"
      ]
    },
    {
      "cell_type": "code",
      "metadata": {
        "id": "KKnBcw8cYgPx",
        "outputId": "d3647de4-db0a-415b-9ed0-a1415c7e5122",
        "colab": {
          "base_uri": "https://localhost:8080/",
          "height": 68
        }
      },
      "source": [
        "from sklearn.tree import DecisionTreeRegressor\n",
        "regressor = DecisionTreeRegressor(random_state = 0)\n",
        "regressor.fit(X_train, y_train)\n",
        "\n",
        "y_pred = regressor.predict(X_test)\n",
        "\n",
        "print(\"Decision Tree Score\",regressor.score(X_test, y_test))\n",
        "print(\"Predicted sales: % d\\n\",y_pred)"
      ],
      "execution_count": 52,
      "outputs": [
        {
          "output_type": "stream",
          "text": [
            "Decision Tree Score 0.6039273196386764\n",
            "Predicted sales: % d\n",
            " [479.04   65.12   41.95  ...  27.24  106.32   72.744]\n"
          ],
          "name": "stdout"
        }
      ]
    },
    {
      "cell_type": "markdown",
      "metadata": {
        "id": "4KcSW3fRtA--"
      },
      "source": [
        "**KNN Perdiction**\n",
        "\n",
        "---"
      ]
    },
    {
      "cell_type": "code",
      "metadata": {
        "id": "o_AaqfNLtGS8",
        "outputId": "b9dc8ce3-ca98-4f8a-b9b5-8ead61514ac3",
        "colab": {
          "base_uri": "https://localhost:8080/",
          "height": 391
        }
      },
      "source": [
        "from sklearn import neighbors\n",
        "\n",
        "# Checnk K from 1 to 20\n",
        "rmse_val = []\n",
        "for K in range(20):\n",
        "    K = K+1\n",
        "    model = neighbors.KNeighborsRegressor(n_neighbors = K)\n",
        "    model.fit(X_train, y_train) \n",
        "    y_pred=model.predict(X_test)\n",
        "    error = sqrt(mean_squared_error(y_test,y_pred))\n",
        "    rmse_val.append(error)\n",
        "    print('RMSE value for k= ' , K , 'is:', error)\n",
        "\n",
        "print('\\nWhen k is',rmse_val.index(min(rmse_val))+1, 'we can get minimum RMSE:', min(rmse_val))    "
      ],
      "execution_count": 57,
      "outputs": [
        {
          "output_type": "stream",
          "text": [
            "RMSE value for k=  1 is: 798.582016805753\n",
            "RMSE value for k=  2 is: 677.1522650985029\n",
            "RMSE value for k=  3 is: 643.6273959556003\n",
            "RMSE value for k=  4 is: 626.9269644600295\n",
            "RMSE value for k=  5 is: 616.5103358377371\n",
            "RMSE value for k=  6 is: 620.1025122104045\n",
            "RMSE value for k=  7 is: 614.0327217929814\n",
            "RMSE value for k=  8 is: 611.0659190881249\n",
            "RMSE value for k=  9 is: 604.489666075992\n",
            "RMSE value for k=  10 is: 601.0264336557804\n",
            "RMSE value for k=  11 is: 600.1195595843761\n",
            "RMSE value for k=  12 is: 598.7825600387607\n",
            "RMSE value for k=  13 is: 599.03400667738\n",
            "RMSE value for k=  14 is: 598.6091942679283\n",
            "RMSE value for k=  15 is: 598.2207884276659\n",
            "RMSE value for k=  16 is: 596.6739323515635\n",
            "RMSE value for k=  17 is: 596.4856978871213\n",
            "RMSE value for k=  18 is: 596.077441602602\n",
            "RMSE value for k=  19 is: 596.6241248316057\n",
            "RMSE value for k=  20 is: 595.7773160663415\n",
            "\n",
            "When k is 20 we can get minimum RMSE: 595.7773160663415\n"
          ],
          "name": "stdout"
        }
      ]
    },
    {
      "cell_type": "markdown",
      "metadata": {
        "id": "tN9zK_woWVq2"
      },
      "source": [
        "**XGBoost**\n",
        "---"
      ]
    },
    {
      "cell_type": "code",
      "metadata": {
        "id": "FOGz-pIvWWsb"
      },
      "source": [
        "from xgboost import XGBRegressor"
      ],
      "execution_count": 53,
      "outputs": []
    },
    {
      "cell_type": "code",
      "metadata": {
        "id": "Or8iCoNpWiw9",
        "outputId": "e2fc6f97-ba2b-4067-8e4b-8a82ccf75fa5",
        "colab": {
          "base_uri": "https://localhost:8080/",
          "height": 54
        }
      },
      "source": [
        "XGB = XGBRegressor(learning_rate =0.01, n_estimators=3460, \n",
        "                                     max_depth=3,min_child_weight=0 ,\n",
        "                                     gamma=0, subsample=0.7,\n",
        "                                     colsample_bytree=0.7,nthread=4,\n",
        "                                     scale_pos_weight=1,seed=7, \n",
        "                                     reg_alpha=0.00006).fit(X_train, y_train)"
      ],
      "execution_count": 54,
      "outputs": [
        {
          "output_type": "stream",
          "text": [
            "[21:07:00] WARNING: /workspace/src/objective/regression_obj.cu:152: reg:linear is now deprecated in favor of reg:squarederror.\n"
          ],
          "name": "stdout"
        }
      ]
    },
    {
      "cell_type": "code",
      "metadata": {
        "id": "4UvDz91jWk3g",
        "outputId": "88c977d6-661a-4484-ba21-78590648b89d",
        "colab": {
          "base_uri": "https://localhost:8080/",
          "height": 51
        }
      },
      "source": [
        "y_pred = XGB.predict(X_test)\n",
        "print(\"XGBoost Score\", XGB.score(X_test, y_test))\n",
        "print(\"Predicted sales:\",y_pred)"
      ],
      "execution_count": 55,
      "outputs": [
        {
          "output_type": "stream",
          "text": [
            "XGBoost Score 0.6170638738774548\n",
            "Predicted sales: [498.10504 258.5789  295.34003 ... 156.30122  63.37609 389.52805]\n"
          ],
          "name": "stdout"
        }
      ]
    }
  ]
}